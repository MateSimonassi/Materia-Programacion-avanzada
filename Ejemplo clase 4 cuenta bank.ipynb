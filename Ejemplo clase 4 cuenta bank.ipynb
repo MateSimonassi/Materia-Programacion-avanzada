{
  "nbformat": 4,
  "nbformat_minor": 0,
  "metadata": {
    "colab": {
      "provenance": []
    },
    "kernelspec": {
      "name": "python3",
      "display_name": "Python 3"
    },
    "language_info": {
      "name": "python"
    }
  },
  "cells": [
    {
      "cell_type": "code",
      "source": [
        "class Persona ():\n",
        "\n",
        "  def __init__(self, nombre, apellido, dni):\n",
        "    self.nombre = nombre\n",
        "    self.apellido = apellido\n",
        "    self.dni = dni\n",
        "\n",
        "  def AbrirCuenta(self, tipo) :\n",
        "    self.cuenta = CuentaBancaria(self, tipo)"
      ],
      "metadata": {
        "id": "7-6Rug8DrbcT"
      },
      "execution_count": 21,
      "outputs": []
    },
    {
      "cell_type": "code",
      "execution_count": 22,
      "metadata": {
        "id": "Fd1peeE5m5sf"
      },
      "outputs": [],
      "source": [
        "class CuentaBancaria (object):\n",
        "     def __init__ (self, persona, tipo_cuenta):\n",
        "       self.titular = persona \n",
        "       self.tipo_cuenta = tipo_cuenta\n",
        "       self.saldo = 436\n",
        "       self.movs = []\n",
        "\n",
        "       #persona.AbrirCuenta(self)\n",
        "\n",
        "     def Movimientos (self, tipo_mov, saldo):\n",
        "        self.movs.append(saldo)"
      ]
    },
    {
      "cell_type": "code",
      "source": [
        "persona = Persona(\"asd\", \"dsa\", 3456789)"
      ],
      "metadata": {
        "id": "gT621zrnn4rK"
      },
      "execution_count": 23,
      "outputs": []
    },
    {
      "cell_type": "code",
      "source": [
        "#caja_ahorro = CuentaBancaria(persona, \"CA\")"
      ],
      "metadata": {
        "id": "1H1ZsLnWrpDl"
      },
      "execution_count": 9,
      "outputs": []
    },
    {
      "cell_type": "code",
      "source": [
        "#caja_ahorro.saldo"
      ],
      "metadata": {
        "colab": {
          "base_uri": "https://localhost:8080/"
        },
        "id": "4Eah0l9TrunP",
        "outputId": "6984453c-2d62-4d0b-d0eb-f5258a24545b"
      },
      "execution_count": 10,
      "outputs": [
        {
          "output_type": "execute_result",
          "data": {
            "text/plain": [
              "21348"
            ]
          },
          "metadata": {},
          "execution_count": 10
        }
      ]
    },
    {
      "cell_type": "code",
      "source": [
        "persona.AbrirCuenta(\"CA\")\n",
        "persona.cuenta.saldo"
      ],
      "metadata": {
        "colab": {
          "base_uri": "https://localhost:8080/"
        },
        "id": "K266x9NDrxgH",
        "outputId": "61130e26-b1f9-4051-af2a-29513514b800"
      },
      "execution_count": 24,
      "outputs": [
        {
          "output_type": "execute_result",
          "data": {
            "text/plain": [
              "436"
            ]
          },
          "metadata": {},
          "execution_count": 24
        }
      ]
    }
  ]
}