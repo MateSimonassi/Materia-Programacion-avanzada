{
  "cells": [
    {
      "cell_type": "markdown",
      "metadata": {
        "id": "9gTU5nHUK7hx"
      },
      "source": []
    },
    {
      "cell_type": "code",
      "execution_count": null,
      "metadata": {
        "colab": {
          "base_uri": "https://localhost:8080/"
        },
        "id": "8pym92I9K6ya",
        "outputId": "ee1fdf62-3133-4ea3-88fc-ba464f72a7a0"
      },
      "outputs": [],
      "source": [
        "import math\n",
        "\n",
        "# Función para calcular el perímetro de un cuadrado\n",
        "def perimetro_cuadrado(lado):\n",
        "    perimetro = lado * 4\n",
        "    return perimetro\n",
        "\n",
        "    # Función para calcular el área de un cuadrado\n",
        "def area_cuadrado(lado):\n",
        "    area = lado ** 2\n",
        "    return area\n",
        "\n",
        "# Función para calcular el área de un rectángulo\n",
        "def area_rectangulo(base, altura):\n",
        "    area = base * altura\n",
        "    return area\n",
        "\n",
        "# Función para calcular el perímetro de un rectángulo\n",
        "def perimetro_rectangulo(base, altura):\n",
        "    perimetro = 2 * (base + altura)\n",
        "    return perimetro\n",
        "\n",
        "# Función para calcular el área de una circunferencia\n",
        "def area_circunferencia(radio):\n",
        "    area = math.pi * radio ** 2\n",
        "    return area\n",
        "\n",
        "\n",
        "# Función para calcular el perímetro de una circunferencia\n",
        "def perimetro_circunferencia(radio):\n",
        "    perimetro = 2 * math.pi * radio\n",
        "    return perimetro\n",
        "\n",
        "# Ejemplo de invocación de las funciones\n",
        "\n",
        "print(\"Área del cuadrado: \", area_cuadrado(5))\n",
        "print(\"Perímetro del cuadrado: \", perimetro_cuadrado(4))\n",
        "\n",
        "\n",
        "print(\"Área del rectángulo: \", area_rectangulo(6, 4))\n",
        "print(\"Perímetro del rectángulo: \", perimetro_rectangulo(6, 4))\n",
        "\n",
        "print(\"Área de la circunferencia: \", area_circunferencia(3))\n",
        "print(\"Perímetro de la circunferencia: \", perimetro_circunferencia(3))"
      ]
    }
  ],
  "metadata": {
    "colab": {
      "provenance": []
    },
    "kernelspec": {
      "display_name": "Python 3",
      "name": "python3"
    },
    "language_info": {
      "name": "python"
    }
  },
  "nbformat": 4,
  "nbformat_minor": 0
}
