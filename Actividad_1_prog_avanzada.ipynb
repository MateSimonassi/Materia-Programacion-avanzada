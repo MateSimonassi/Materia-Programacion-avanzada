{
  "nbformat": 4,
  "nbformat_minor": 0,
  "metadata": {
    "colab": {
      "provenance": []
    },
    "kernelspec": {
      "name": "python3",
      "display_name": "Python 3"
    },
    "language_info": {
      "name": "python"
    }
  },
  "cells": [
    {
      "cell_type": "markdown",
      "source": [],
      "metadata": {
        "id": "9gTU5nHUK7hx"
      }
    },
    {
      "cell_type": "code",
      "execution_count": 2,
      "metadata": {
        "colab": {
          "base_uri": "https://localhost:8080/"
        },
        "id": "8pym92I9K6ya",
        "outputId": "ee1fdf62-3133-4ea3-88fc-ba464f72a7a0"
      },
      "outputs": [
        {
          "output_type": "stream",
          "name": "stdout",
          "text": [
            "Área del cuadrado:  25\n",
            "Perímetro del cuadrado:  20\n",
            "Área del rectángulo:  24\n",
            "Perímetro del rectángulo:  20\n",
            "Área de la circunferencia:  28.274333882308138\n",
            "Perímetro de la circunferencia:  18.84955592153876\n"
          ]
        }
      ],
      "source": [
        "import math\n",
        "\n",
        "# Función para calcular el área y perímetro de un cuadrado\n",
        "def cuadrado(lado):\n",
        "    area = lado ** 2\n",
        "    perimetro = lado * 4\n",
        "    return area, perimetro\n",
        "\n",
        "# Función para calcular el área y perímetro de un rectángulo\n",
        "def rectangulo(base, altura):\n",
        "    area = base * altura\n",
        "    perimetro = 2 * (base + altura)\n",
        "    return area, perimetro\n",
        "\n",
        "# Función para calcular el área y perímetro de una circunferencia\n",
        "def circunferencia(radio):\n",
        "    area = math.pi * radio ** 2\n",
        "    perimetro = 2 * math.pi * radio\n",
        "    return area, perimetro\n",
        "\n",
        "\n",
        "# Ejemplo de invocación de las funciones\n",
        "lado_cuadrado = 5\n",
        "base_rectangulo = 4\n",
        "altura_rectangulo = 6\n",
        "radio_circunferencia = 3\n",
        "\n",
        "area_cuadrado, perimetro_cuadrado = cuadrado(lado_cuadrado)\n",
        "print(\"Área del cuadrado: \", area_cuadrado)\n",
        "print(\"Perímetro del cuadrado: \", perimetro_cuadrado)\n",
        "\n",
        "area_rectangulo, perimetro_rectangulo = rectangulo(base_rectangulo, altura_rectangulo)\n",
        "print(\"Área del rectángulo: \", area_rectangulo)\n",
        "print(\"Perímetro del rectángulo: \", perimetro_rectangulo)\n",
        "\n",
        "area_circunferencia, perimetro_circunferencia = circunferencia(radio_circunferencia)\n",
        "print(\"Área de la circunferencia: \", area_circunferencia)\n",
        "print(\"Perímetro de la circunferencia: \", perimetro_circunferencia)"
      ]
    }
  ]
}