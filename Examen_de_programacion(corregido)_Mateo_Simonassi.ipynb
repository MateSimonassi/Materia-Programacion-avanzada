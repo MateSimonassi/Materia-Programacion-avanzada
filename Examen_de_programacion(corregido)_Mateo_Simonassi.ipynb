{
  "nbformat": 4,
  "nbformat_minor": 0,
  "metadata": {
    "colab": {
      "provenance": [],
      "authorship_tag": "ABX9TyOfEDQhJ0wUpreDrpQ9o+BT",
      "include_colab_link": true
    },
    "kernelspec": {
      "name": "python3",
      "display_name": "Python 3"
    },
    "language_info": {
      "name": "python"
    }
  },
  "cells": [
    {
      "cell_type": "markdown",
      "metadata": {
        "id": "view-in-github",
        "colab_type": "text"
      },
      "source": [
        "<a href=\"https://colab.research.google.com/github/MateSimonassi/Materia-Programacion-avanzada/blob/main/Examen_de_programacion(corregido)_Mateo_Simonassi.ipynb\" target=\"_parent\"><img src=\"https://colab.research.google.com/assets/colab-badge.svg\" alt=\"Open In Colab\"/></a>"
      ]
    },
    {
      "cell_type": "markdown",
      "source": [
        "## PUNTO 1"
      ],
      "metadata": {
        "id": "1g8bCcRy_iPt"
      }
    },
    {
      "cell_type": "code",
      "execution_count": null,
      "metadata": {
        "colab": {
          "base_uri": "https://localhost:8080/"
        },
        "id": "psyLd4C6-jyO",
        "outputId": "838296b7-3528-4b6e-d732-b851858ede27"
      },
      "outputs": [
        {
          "output_type": "stream",
          "name": "stdout",
          "text": [
            "{'tipo': 'Excel', 'version': '1.0.0', 'largo': '10 registros'}\n"
          ]
        }
      ],
      "source": [
        "class Application():\n",
        "  def __init__(self, tipo):\n",
        "    self.tipo=tipo\n",
        "\n",
        "class Worksheets(Application):\n",
        "  def __init__(self, tipo, version):\n",
        "    super().__init__(tipo)\n",
        "    self.version=version\n",
        "\n",
        "class Columns(Worksheets):\n",
        "  def __init__(self, tipo, version, largo):\n",
        "    super().__init__(tipo, version)\n",
        "    self.largo=largo\n",
        "\n",
        "\n",
        "\n",
        "Info = Columns(\"Excel\", \"1.0.0\", \"10 registros\")\n",
        "print(Info.__dict__)\n",
        "\n"
      ]
    },
    {
      "cell_type": "markdown",
      "source": [
        "## PUNTO 2"
      ],
      "metadata": {
        "id": "n-9n4jJp_jRk"
      }
    },
    {
      "cell_type": "code",
      "source": [
        "class Vehiculo():\n",
        "  def __init__(self, matricula, marca, modelo):\n",
        "    self.matricula=matricula\n",
        "    self.marca=marca\n",
        "    self.modelo=modelo\n",
        "  def imprime_mensaje(self):\n",
        "    print(\"Su vehículo es: \", self.matricula, self.marca, self.modelo, \"Requiere hacer el service del vehiculo\")\n",
        "\n",
        "class Coche(Vehiculo):\n",
        "  def __init__(self, matricula, marca, modelo, anchura, altura):\n",
        "    super().__init__(matricula, marca, modelo)\n",
        "    self.anchura = anchura\n",
        "    self.altura = altura\n",
        "  \n",
        "  def dimensiones(self):\n",
        "    dimensiones = self.anchura * self.altura\n",
        "    print(\"El área que ocupa el vehículo es de:\", dimensiones)\n",
        "\n",
        "\n",
        "class Moto(Vehiculo):\n",
        "  def __init__(self, matricula, marca, modelo, limitador):\n",
        "    super().__init__(matricula, marca, modelo)\n",
        "    self.limitador=limitador\n",
        "  def mostrar_limitador(self):\n",
        "    if self.limitador==True:\n",
        "      print(\"Su moto es: \", self.matricula, self.marca, self.modelo)\n",
        "      print(\"Esta dentro del limite permitido\")\n",
        "    else:\n",
        "      print(\"Su moto es: \", self.matricula, self.marca, self.modelo)\n",
        "      print(\"Se ha pasado del limte de velocidad estipulado\")\n",
        "\n",
        "\n",
        "v=Coche(\"POR870\", \"Peugeot\", \"208\", 2, 3)\n",
        "v.dimensiones()\n",
        "\n",
        "m=Moto(\"LW6043\", \"Sirus\", \"MK3\", False)\n",
        "m.mostrar_limitador()\n",
        "\n",
        "z=Vehiculo(\"POR870\", \"Peugeot\", \"208\")\n",
        "z.imprime_mensaje()"
      ],
      "metadata": {
        "id": "dJ_dmBIY_j7q",
        "colab": {
          "base_uri": "https://localhost:8080/"
        },
        "outputId": "13468d2b-ee39-447c-beee-3f05b7cee9a1"
      },
      "execution_count": null,
      "outputs": [
        {
          "output_type": "stream",
          "name": "stdout",
          "text": [
            "Chequee las medidas, hay un error.\n",
            "Su moto es:  LW6043 Sirus MK3\n",
            "Se ha pasado del limte de velocidad estipulado\n",
            "Su vehículo es:  POR870 Peugeot 208 Requiere hacer el service del vehiculo\n"
          ]
        }
      ]
    },
    {
      "cell_type": "markdown",
      "source": [
        "## PUNTO 3"
      ],
      "metadata": {
        "id": "baGe-Kkl_kh8"
      }
    },
    {
      "cell_type": "code",
      "source": [
        "\n",
        "\n",
        "import random\n",
        "\n",
        "class Lista():\n",
        "  def __init__(self, nombre):\n",
        "    self.lista=[]\n",
        "    self.nombre=nombre\n",
        "    i=0\n",
        "    while i<10:\n",
        "      self.lista.append(int(random.randint(0,10)))\n",
        "      i=i+1\n",
        "  def buscarElemento(self, elemento):\n",
        "    for i in range (0, len(self.lista)):\n",
        "      if self.lista[i]==elemento:\n",
        "        return i\n",
        "  def imprimirLista(self):\n",
        "    for i in range(0, len(self.lista)):\n",
        "      print(self.nombre, \"[\", i, \"]= \", self.lista[i])\n",
        "\n",
        "a=Lista(\"Mi lista\")\n",
        "a.imprimirLista()\n",
        "a.buscarElemento(10)"
      ],
      "metadata": {
        "colab": {
          "base_uri": "https://localhost:8080/"
        },
        "id": "p08BH26c_lDR",
        "outputId": "e76a5c90-7116-4453-89e5-172917784ced"
      },
      "execution_count": null,
      "outputs": [
        {
          "output_type": "stream",
          "name": "stdout",
          "text": [
            "Mi lista [ 0 ]=  8\n",
            "Mi lista [ 1 ]=  2\n",
            "Mi lista [ 2 ]=  2\n",
            "Mi lista [ 3 ]=  10\n",
            "Mi lista [ 4 ]=  1\n",
            "Mi lista [ 5 ]=  2\n",
            "Mi lista [ 6 ]=  2\n",
            "Mi lista [ 7 ]=  4\n",
            "Mi lista [ 8 ]=  6\n",
            "Mi lista [ 9 ]=  0\n"
          ]
        },
        {
          "output_type": "execute_result",
          "data": {
            "text/plain": [
              "3"
            ]
          },
          "metadata": {},
          "execution_count": 18
        }
      ]
    }
  ]
}